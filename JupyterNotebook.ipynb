{
 "cells": [
  {
   "cell_type": "code",
   "execution_count": 6,
   "metadata": {},
   "outputs": [
    {
     "data": {
      "text/html": [
       "<div>\n",
       "<style scoped>\n",
       "    .dataframe tbody tr th:only-of-type {\n",
       "        vertical-align: middle;\n",
       "    }\n",
       "\n",
       "    .dataframe tbody tr th {\n",
       "        vertical-align: top;\n",
       "    }\n",
       "\n",
       "    .dataframe thead th {\n",
       "        text-align: right;\n",
       "    }\n",
       "</style>\n",
       "<table border=\"1\" class=\"dataframe\">\n",
       "  <thead>\n",
       "    <tr style=\"text-align: right;\">\n",
       "      <th></th>\n",
       "      <th>High</th>\n",
       "      <th>Low</th>\n",
       "      <th>Open</th>\n",
       "      <th>Close</th>\n",
       "      <th>Volume</th>\n",
       "      <th>Adj Close</th>\n",
       "    </tr>\n",
       "    <tr>\n",
       "      <th>Date</th>\n",
       "      <th></th>\n",
       "      <th></th>\n",
       "      <th></th>\n",
       "      <th></th>\n",
       "      <th></th>\n",
       "      <th></th>\n",
       "    </tr>\n",
       "  </thead>\n",
       "  <tbody>\n",
       "    <tr>\n",
       "      <th>2015-11-02</th>\n",
       "      <td>121.360001</td>\n",
       "      <td>119.610001</td>\n",
       "      <td>120.800003</td>\n",
       "      <td>121.180000</td>\n",
       "      <td>32203300.0</td>\n",
       "      <td>113.962120</td>\n",
       "    </tr>\n",
       "    <tr>\n",
       "      <th>2015-11-03</th>\n",
       "      <td>123.489998</td>\n",
       "      <td>120.699997</td>\n",
       "      <td>120.790001</td>\n",
       "      <td>122.570000</td>\n",
       "      <td>45519000.0</td>\n",
       "      <td>115.269333</td>\n",
       "    </tr>\n",
       "    <tr>\n",
       "      <th>2015-11-04</th>\n",
       "      <td>123.820000</td>\n",
       "      <td>121.620003</td>\n",
       "      <td>123.129997</td>\n",
       "      <td>122.000000</td>\n",
       "      <td>44886100.0</td>\n",
       "      <td>114.733292</td>\n",
       "    </tr>\n",
       "    <tr>\n",
       "      <th>2015-11-05</th>\n",
       "      <td>122.690002</td>\n",
       "      <td>120.180000</td>\n",
       "      <td>121.849998</td>\n",
       "      <td>120.919998</td>\n",
       "      <td>39552700.0</td>\n",
       "      <td>114.204384</td>\n",
       "    </tr>\n",
       "    <tr>\n",
       "      <th>2015-11-06</th>\n",
       "      <td>121.809998</td>\n",
       "      <td>120.620003</td>\n",
       "      <td>121.110001</td>\n",
       "      <td>121.059998</td>\n",
       "      <td>33042300.0</td>\n",
       "      <td>114.336601</td>\n",
       "    </tr>\n",
       "  </tbody>\n",
       "</table>\n",
       "</div>"
      ],
      "text/plain": [
       "                  High         Low        Open       Close      Volume  \\\n",
       "Date                                                                     \n",
       "2015-11-02  121.360001  119.610001  120.800003  121.180000  32203300.0   \n",
       "2015-11-03  123.489998  120.699997  120.790001  122.570000  45519000.0   \n",
       "2015-11-04  123.820000  121.620003  123.129997  122.000000  44886100.0   \n",
       "2015-11-05  122.690002  120.180000  121.849998  120.919998  39552700.0   \n",
       "2015-11-06  121.809998  120.620003  121.110001  121.059998  33042300.0   \n",
       "\n",
       "             Adj Close  \n",
       "Date                    \n",
       "2015-11-02  113.962120  \n",
       "2015-11-03  115.269333  \n",
       "2015-11-04  114.733292  \n",
       "2015-11-05  114.204384  \n",
       "2015-11-06  114.336601  "
      ]
     },
     "execution_count": 6,
     "metadata": {},
     "output_type": "execute_result"
    }
   ],
   "source": [
    "from pandas_datareader import data\n",
    "import datetime\n",
    "#import fix_yahoo_finance as yf\n",
    "#yf.pdr_override()\n",
    "from bokeh.plotting import figure, show, output_file\n",
    "from bokeh.embed import components\n",
    "from bokeh.resources import CDN\n",
    "\n",
    "start=datetime.datetime(2015,11,1)\n",
    "end=datetime.datetime(2016,3,10)\n",
    "\n",
    "df=data.DataReader(name=\"AAPL\", data_source=\"yahoo\", start=start, end=end)\n",
    "df.head()"
   ]
  },
  {
   "cell_type": "code",
   "execution_count": 7,
   "metadata": {},
   "outputs": [
    {
     "data": {
      "text/html": [
       "<div>\n",
       "<style scoped>\n",
       "    .dataframe tbody tr th:only-of-type {\n",
       "        vertical-align: middle;\n",
       "    }\n",
       "\n",
       "    .dataframe tbody tr th {\n",
       "        vertical-align: top;\n",
       "    }\n",
       "\n",
       "    .dataframe thead th {\n",
       "        text-align: right;\n",
       "    }\n",
       "</style>\n",
       "<table border=\"1\" class=\"dataframe\">\n",
       "  <thead>\n",
       "    <tr style=\"text-align: right;\">\n",
       "      <th></th>\n",
       "      <th>High</th>\n",
       "      <th>Low</th>\n",
       "      <th>Open</th>\n",
       "      <th>Close</th>\n",
       "      <th>Volume</th>\n",
       "      <th>Adj Close</th>\n",
       "      <th>Status</th>\n",
       "      <th>Middle</th>\n",
       "      <th>Height</th>\n",
       "    </tr>\n",
       "    <tr>\n",
       "      <th>Date</th>\n",
       "      <th></th>\n",
       "      <th></th>\n",
       "      <th></th>\n",
       "      <th></th>\n",
       "      <th></th>\n",
       "      <th></th>\n",
       "      <th></th>\n",
       "      <th></th>\n",
       "      <th></th>\n",
       "    </tr>\n",
       "  </thead>\n",
       "  <tbody>\n",
       "    <tr>\n",
       "      <th>2015-11-02</th>\n",
       "      <td>121.360001</td>\n",
       "      <td>119.610001</td>\n",
       "      <td>120.800003</td>\n",
       "      <td>121.180000</td>\n",
       "      <td>32203300.0</td>\n",
       "      <td>113.962120</td>\n",
       "      <td>Increase</td>\n",
       "      <td>120.990002</td>\n",
       "      <td>0.379997</td>\n",
       "    </tr>\n",
       "    <tr>\n",
       "      <th>2015-11-03</th>\n",
       "      <td>123.489998</td>\n",
       "      <td>120.699997</td>\n",
       "      <td>120.790001</td>\n",
       "      <td>122.570000</td>\n",
       "      <td>45519000.0</td>\n",
       "      <td>115.269333</td>\n",
       "      <td>Increase</td>\n",
       "      <td>121.680000</td>\n",
       "      <td>1.779999</td>\n",
       "    </tr>\n",
       "    <tr>\n",
       "      <th>2015-11-04</th>\n",
       "      <td>123.820000</td>\n",
       "      <td>121.620003</td>\n",
       "      <td>123.129997</td>\n",
       "      <td>122.000000</td>\n",
       "      <td>44886100.0</td>\n",
       "      <td>114.733292</td>\n",
       "      <td>Decrease</td>\n",
       "      <td>122.564999</td>\n",
       "      <td>1.129997</td>\n",
       "    </tr>\n",
       "    <tr>\n",
       "      <th>2015-11-05</th>\n",
       "      <td>122.690002</td>\n",
       "      <td>120.180000</td>\n",
       "      <td>121.849998</td>\n",
       "      <td>120.919998</td>\n",
       "      <td>39552700.0</td>\n",
       "      <td>114.204384</td>\n",
       "      <td>Decrease</td>\n",
       "      <td>121.384998</td>\n",
       "      <td>0.930000</td>\n",
       "    </tr>\n",
       "    <tr>\n",
       "      <th>2015-11-06</th>\n",
       "      <td>121.809998</td>\n",
       "      <td>120.620003</td>\n",
       "      <td>121.110001</td>\n",
       "      <td>121.059998</td>\n",
       "      <td>33042300.0</td>\n",
       "      <td>114.336601</td>\n",
       "      <td>Decrease</td>\n",
       "      <td>121.084999</td>\n",
       "      <td>0.050003</td>\n",
       "    </tr>\n",
       "  </tbody>\n",
       "</table>\n",
       "</div>"
      ],
      "text/plain": [
       "                  High         Low        Open       Close      Volume  \\\n",
       "Date                                                                     \n",
       "2015-11-02  121.360001  119.610001  120.800003  121.180000  32203300.0   \n",
       "2015-11-03  123.489998  120.699997  120.790001  122.570000  45519000.0   \n",
       "2015-11-04  123.820000  121.620003  123.129997  122.000000  44886100.0   \n",
       "2015-11-05  122.690002  120.180000  121.849998  120.919998  39552700.0   \n",
       "2015-11-06  121.809998  120.620003  121.110001  121.059998  33042300.0   \n",
       "\n",
       "             Adj Close    Status      Middle    Height  \n",
       "Date                                                    \n",
       "2015-11-02  113.962120  Increase  120.990002  0.379997  \n",
       "2015-11-03  115.269333  Increase  121.680000  1.779999  \n",
       "2015-11-04  114.733292  Decrease  122.564999  1.129997  \n",
       "2015-11-05  114.204384  Decrease  121.384998  0.930000  \n",
       "2015-11-06  114.336601  Decrease  121.084999  0.050003  "
      ]
     },
     "execution_count": 7,
     "metadata": {},
     "output_type": "execute_result"
    }
   ],
   "source": [
    "def inc_dec(c, o):\n",
    "        if c > o:\n",
    "            value=\"Increase\"\n",
    "        elif c < o:\n",
    "            value=\"Decrease\"\n",
    "        else:\n",
    "            value=\"Equal\"\n",
    "        return value\n",
    "\n",
    "df[\"Status\"]=[inc_dec(c,o) for c, o in zip(df.Close,df.Open)]\n",
    "df[\"Middle\"]=(df.Open+df.Close)/2\n",
    "df[\"Height\"]=abs(df.Close-df.Open)\n",
    "df.head()"
   ]
  },
  {
   "cell_type": "code",
   "execution_count": 12,
   "metadata": {},
   "outputs": [],
   "source": [
    "p=figure(x_axis_type='datetime', width=1000, height=300)\n",
    "p.title.text=\"Candlestick Chart\"\n",
    "p.grid.grid_line_alpha=0.3\n",
    "\n",
    "hours_12=12*60*60*1000\n",
    "\n",
    "p.segment(df.index, df.High, df.index, df.Low, color=\"Black\")\n",
    "\n",
    "p.rect(df.index[df.Status==\"Increase\"],df.Middle[df.Status==\"Increase\"],\n",
    "    hours_12, df.Height[df.Status==\"Increase\"],fill_color=\"#CCFFFF\",line_color=\"black\")\n",
    "\n",
    "p.rect(df.index[df.Status==\"Decrease\"],df.Middle[df.Status==\"Decrease\"],\n",
    "    hours_12, df.Height[df.Status==\"Decrease\"],fill_color=\"#FF3333\",line_color=\"black\")\n",
    "\n",
    "show(p)"
   ]
  },
  {
   "cell_type": "code",
   "execution_count": 17,
   "metadata": {},
   "outputs": [
    {
     "data": {
      "text/plain": [
       "('\\n<script type=\"text/javascript\">\\n  (function() {\\n    var fn = function() {\\n      Bokeh.safely(function() {\\n        (function(root) {\\n          function embed_document(root) {\\n            \\n          var docs_json = \\'{\"40bd541c-df47-4ea4-b6bc-1ef59fa9b678\":{\"roots\":{\"references\":[{\"attributes\":{\"data_source\":{\"id\":\"1329\",\"type\":\"ColumnDataSource\"},\"glyph\":{\"id\":\"1330\",\"type\":\"Segment\"},\"hover_glyph\":null,\"muted_glyph\":null,\"nonselection_glyph\":{\"id\":\"1331\",\"type\":\"Segment\"},\"selection_glyph\":null,\"view\":{\"id\":\"1333\",\"type\":\"CDSView\"}},\"id\":\"1332\",\"type\":\"GlyphRenderer\"},{\"attributes\":{},\"id\":\"1366\",\"type\":\"UnionRenderers\"},{\"attributes\":{\"source\":{\"id\":\"1329\",\"type\":\"ColumnDataSource\"}},\"id\":\"1333\",\"type\":\"CDSView\"},{\"attributes\":{\"callback\":null},\"id\":\"1297\",\"type\":\"DataRange1d\"},{\"attributes\":{},\"id\":\"1367\",\"type\":\"Selection\"},{\"attributes\":{},\"id\":\"1346\",\"type\":\"DatetimeTickFormatter\"},{\"attributes\":{\"callback\":null,\"data\":{\"height\":{\"__ndarray__\":\"AAAAAHgU8j8AAAAAkMLtPwAAAAAAmqk/AAAAAMD12D8AAAAAAKTAPwAAAADgo9A/AAAAALBH4T8AAAAASOEGQAAAAAAQrvM/AAAAAOhR+D8AAAAASOHyPwAAAABguN4/AAAAAGCP9j8AAAAAwPXwPwAAAACgmfU/AAAAAHBm5j8AAAAA9CgAQAAAAAB8FABAAAAAADgz9z8AAAAA6FEIQAAAAABACgdAAAAAAIDCxT8AAAAAQArvPwAAAADQo+g/AAAAAPgo9D8AAAAAAAD8PwAAAADsUQhAAAAAAAzXAUAAAAAAqHD5PwAAAAAAKdw/AAAAAFDh4j8AAAAApHAHQAAAAAAAAPw/AAAAAOBR6D8AAAAA1KMAQAAAAADE9QRAAAAAAAB7pD8AAAAAcBTuPwAAAAAAAARAAAAAAGhm+j8AAAAAgAq3PwAAAADAmck/AAAAANSjBEAAAAAAKFz7PwAAAABAj9I/AAAAAIDCxT8AAAAA0KPgPwAAAADAUcg/AAAAAIC4zj8=\",\"dtype\":\"float64\",\"shape\":[49]},\"x\":{\"__ndarray__\":\"AABAsPwMdUIAAAAWTw11QgAAwHuhDXVCAAAArZgOdUIAAMAS6w51QgAAgHg9D3VCAABA3o8PdUIAAABE4g91QgAAANsrEXVCAACAPRoTdUIAAAAJvxN1QgAAgNRjFHVCAACAa60VdUIAAEDR/xV1QgAAADdSFnVCAAAAzpsXdUIAAICZQBh1QgAAAGXlGHVCAAAA/C4adUIAAIDH0xp1QgAAQC0mG3VCAABAxG8cdUIAAMCPFB11QgAAwCZeHnVCAABA8gIfdUIAAABYVR91QgAAwFTxIHVCAABAIJYhdUIAAACG6CF1QgAAQLffInVCAAAAHTIjdUIAAMCChCN1QgAAQOVyJXVCAADAsBcmdUIAAMBHYSd1QgAAQBMGKHVCAAAAEKIpdUIAAMB19Cl1QgAAAKfrKnVCAADAo4csdUIAAIAJ2ix1QgAAQG8sLXVCAADA0RovdUIAAIDOtjB1QgAAwP+tMXVCAAAAMaUydUIAAED55TR1QgAAwMSKNXVCAACAKt01dUI=\",\"dtype\":\"float64\",\"shape\":[49]},\"y\":{\"__ndarray__\":\"AAAA8CikXkAAAADQo1heQAAAAKBwRV5AAAAAwPUwXkAAAACgcDVdQAAAADBcD11AAAAAMFz/XEAAAACgR3FcQAAAACCFk1xAAAAA0KOgXUAAAAAQrqddQAAAADAzg11AAAAAQOGCXUAAAAAA1zNdQAAAAAAA+FxAAAAA8FGoXUAAAADwUShdQAAAABDXi1xAAAAAkMLNW0AAAAAAAKBbQAAAAIAU3lpAAAAAACnUWkAAAADA9SBbQAAAALAezVpAAAAA0Mz8WkAAAADgo4haQAAAAFC4DlpAAAAA8ChkWEAAAADwUXBYQAAAAAAAsFhAAAAA8FEQWUAAAABQuLZYQAAAAIA9YlhAAAAAIIUrWEAAAABQuB5ZQAAAAFC4rldAAAAA0MwcWEAAAADQzLxXQAAAAKBH0VdAAAAAcBTGV0AAAAAQrm9XQAAAAJDChVdAAAAAMDNjWEAAAABQ4eJXQAAAACCFQ1hAAAAAoJkxWEAAAADwUYhZQAAAAJDCTVlAAAAAYI9SWUA=\",\"dtype\":\"float64\",\"shape\":[49]}},\"selected\":{\"id\":\"1367\",\"type\":\"Selection\"},\"selection_policy\":{\"id\":\"1368\",\"type\":\"UnionRenderers\"}},\"id\":\"1339\",\"type\":\"ColumnDataSource\"},{\"attributes\":{},\"id\":\"1299\",\"type\":\"LinearScale\"},{\"attributes\":{},\"id\":\"1368\",\"type\":\"UnionRenderers\"},{\"attributes\":{},\"id\":\"1348\",\"type\":\"BasicTickFormatter\"},{\"attributes\":{},\"id\":\"1301\",\"type\":\"LinearScale\"},{\"attributes\":{\"mantissas\":[1,2,5],\"max_interval\":500.0,\"num_minor_ticks\":0},\"id\":\"1350\",\"type\":\"AdaptiveTicker\"},{\"attributes\":{\"callback\":null,\"data\":{\"height\":{\"__ndarray__\":\"AAAAAOBR2D8AAAAA4Hr8PwAAAABoZgZAAAAAAOB6+D8AAAAAcD3yPwAAAAAAmrk/AAAAAMjM+D8AAAAAINfTPwAAAACE6w1AAAAAAGC45j8AAAAAwKPAPwAAAABAM9M/AAAAAKBH0T8AAAAAAJqpPwAAAACocPU/AAAAAOB6/D8AAAAAhOsFQAAAAACA68E/AAAAAMD1+D8AAAAAkMLtPwAAAABACvs/AAAAAOxRBkAAAAAAALiuPwAAAAAgM9M/AAAAAGRmBEAAAAAAmJn1PwAAAAAQruc/AAAAAIAU/j8AAAAAYGbmPwAAAACI6/k/AAAAADgz9z8AAAAAAHukPwAAAABwPeI/AAAAAMD1AEAAAAAAULjmPwAAAAA8CgdAAAAAAEC4zj8AAAAAoHDtPwAAAADgeuQ/AAAAAAAA0D8AAAAAAHyUPw==\",\"dtype\":\"float64\",\"shape\":[41]},\"x\":{\"__ndarray__\":\"AADA5FcMdUIAAIBKqgx1QgAAQHXZEHVCAADAQH4RdUIAAICm0BF1QgAAQAwjEnVCAABAo2wTdUIAAMAFWxV1QgAAwJykFnVCAADAM+4XdUIAAED/khh1QgAAQJbcGXVCAADAYYEadUIAAIBeHRx1QgAAACrCHHVCAACAjLAedUIAAADvniB1QgAAgLpDIXVCAACA6NYjdUIAAEBOKSR1QgAAAEvFJXVCAACAFmomdUIAAICtsyd1QgAAAHlYKHVCAADA3qoodUIAAIDbRip1QgAAQEGZKnVCAABA2OIrdUIAAAA+NSx1QgAAQAZ2LnVCAAAAbMgudUIAAIA3bS91QgAAwGhkMHVCAABANAkxdUIAAACaWzF1QgAAwJb3MnVCAACA/EkzdUIAAEBinDN1QgAAAMjuM3VCAAAAXzg1dUIAAECQLzZ1Qg==\",\"dtype\":\"float64\",\"shape\":[41]},\"y\":{\"__ndarray__\":\"AAAAMFw/XkAAAAAghWteQAAAAIDrMVxAAAAAoJkhXUAAAACgcI1dQAAAAAAA0F1AAAAAULiGXUAAAACwR4ldQAAAAHA9Sl1AAAAAAAB4XUAAAABQuAZdQAAAAMAeFVxAAAAAsB7NW0AAAAAghdNaQAAAAPAo/FpAAAAAYGb2WkAAAABQuP5ZQAAAAOBRKFlAAAAAIFyvWEAAAABQjypYQAAAAOB6/FdAAAAAkJkBWUAAAACgcP1YQAAAAPAofFdAAAAA8CgEWEAAAAAwM+tXQAAAAFC4DlhAAAAA4HqEV0AAAADA9ahXQAAAALAe9VdAAAAAsEdZWEAAAACwRwFYQAAAAHAUJlhAAAAAYI/CV0AAAACQ6xlYQAAAAJDCxVhAAAAA8FEoWUAAAABgj0JZQAAAAAAprFlAAAAAgOs5WUAAAAAAAJBZQA==\",\"dtype\":\"float64\",\"shape\":[41]}},\"selected\":{\"id\":\"1365\",\"type\":\"Selection\"},\"selection_policy\":{\"id\":\"1366\",\"type\":\"UnionRenderers\"}},\"id\":\"1334\",\"type\":\"ColumnDataSource\"},{\"attributes\":{\"formatter\":{\"id\":\"1346\",\"type\":\"DatetimeTickFormatter\"},\"plot\":{\"id\":\"1294\",\"subtype\":\"Figure\",\"type\":\"Plot\"},\"ticker\":{\"id\":\"1304\",\"type\":\"DatetimeTicker\"}},\"id\":\"1303\",\"type\":\"DatetimeAxis\"},{\"attributes\":{\"num_minor_ticks\":5,\"tickers\":[{\"id\":\"1350\",\"type\":\"AdaptiveTicker\"},{\"id\":\"1351\",\"type\":\"AdaptiveTicker\"},{\"id\":\"1352\",\"type\":\"AdaptiveTicker\"},{\"id\":\"1353\",\"type\":\"DaysTicker\"},{\"id\":\"1354\",\"type\":\"DaysTicker\"},{\"id\":\"1355\",\"type\":\"DaysTicker\"},{\"id\":\"1356\",\"type\":\"DaysTicker\"},{\"id\":\"1357\",\"type\":\"MonthsTicker\"},{\"id\":\"1358\",\"type\":\"MonthsTicker\"},{\"id\":\"1359\",\"type\":\"MonthsTicker\"},{\"id\":\"1360\",\"type\":\"MonthsTicker\"},{\"id\":\"1361\",\"type\":\"YearsTicker\"}]},\"id\":\"1304\",\"type\":\"DatetimeTicker\"},{\"attributes\":{\"base\":60,\"mantissas\":[1,2,5,10,15,20,30],\"max_interval\":1800000.0,\"min_interval\":1000.0,\"num_minor_ticks\":0},\"id\":\"1351\",\"type\":\"AdaptiveTicker\"},{\"attributes\":{\"fill_color\":{\"value\":\"#CCFFFF\"},\"height\":{\"field\":\"height\",\"units\":\"data\"},\"width\":{\"units\":\"data\",\"value\":43200000},\"x\":{\"field\":\"x\"},\"y\":{\"field\":\"y\"}},\"id\":\"1335\",\"type\":\"Rect\"},{\"attributes\":{\"grid_line_alpha\":{\"value\":0.3},\"plot\":{\"id\":\"1294\",\"subtype\":\"Figure\",\"type\":\"Plot\"},\"ticker\":{\"id\":\"1304\",\"type\":\"DatetimeTicker\"}},\"id\":\"1307\",\"type\":\"Grid\"},{\"attributes\":{\"base\":24,\"mantissas\":[1,2,4,6,8,12],\"max_interval\":43200000.0,\"min_interval\":3600000.0,\"num_minor_ticks\":0},\"id\":\"1352\",\"type\":\"AdaptiveTicker\"},{\"attributes\":{\"fill_alpha\":{\"value\":0.1},\"fill_color\":{\"value\":\"#1f77b4\"},\"height\":{\"field\":\"height\",\"units\":\"data\"},\"line_alpha\":{\"value\":0.1},\"line_color\":{\"value\":\"#1f77b4\"},\"width\":{\"units\":\"data\",\"value\":43200000},\"x\":{\"field\":\"x\"},\"y\":{\"field\":\"y\"}},\"id\":\"1336\",\"type\":\"Rect\"},{\"attributes\":{\"formatter\":{\"id\":\"1348\",\"type\":\"BasicTickFormatter\"},\"plot\":{\"id\":\"1294\",\"subtype\":\"Figure\",\"type\":\"Plot\"},\"ticker\":{\"id\":\"1309\",\"type\":\"BasicTicker\"}},\"id\":\"1308\",\"type\":\"LinearAxis\"},{\"attributes\":{},\"id\":\"1316\",\"type\":\"SaveTool\"},{\"attributes\":{\"days\":[1,2,3,4,5,6,7,8,9,10,11,12,13,14,15,16,17,18,19,20,21,22,23,24,25,26,27,28,29,30,31]},\"id\":\"1353\",\"type\":\"DaysTicker\"},{\"attributes\":{},\"id\":\"1313\",\"type\":\"PanTool\"},{\"attributes\":{\"data_source\":{\"id\":\"1334\",\"type\":\"ColumnDataSource\"},\"glyph\":{\"id\":\"1335\",\"type\":\"Rect\"},\"hover_glyph\":null,\"muted_glyph\":null,\"nonselection_glyph\":{\"id\":\"1336\",\"type\":\"Rect\"},\"selection_glyph\":null,\"view\":{\"id\":\"1338\",\"type\":\"CDSView\"}},\"id\":\"1337\",\"type\":\"GlyphRenderer\"},{\"attributes\":{},\"id\":\"1318\",\"type\":\"HelpTool\"},{\"attributes\":{},\"id\":\"1309\",\"type\":\"BasicTicker\"},{\"attributes\":{\"days\":[1,4,7,10,13,16,19,22,25,28]},\"id\":\"1354\",\"type\":\"DaysTicker\"},{\"attributes\":{\"source\":{\"id\":\"1334\",\"type\":\"ColumnDataSource\"}},\"id\":\"1338\",\"type\":\"CDSView\"},{\"attributes\":{\"dimension\":1,\"grid_line_alpha\":{\"value\":0.3},\"plot\":{\"id\":\"1294\",\"subtype\":\"Figure\",\"type\":\"Plot\"},\"ticker\":{\"id\":\"1309\",\"type\":\"BasicTicker\"}},\"id\":\"1312\",\"type\":\"Grid\"},{\"attributes\":{\"days\":[1,8,15,22]},\"id\":\"1355\",\"type\":\"DaysTicker\"},{\"attributes\":{},\"id\":\"1364\",\"type\":\"UnionRenderers\"},{\"attributes\":{\"days\":[1,15]},\"id\":\"1356\",\"type\":\"DaysTicker\"},{\"attributes\":{\"callback\":null,\"data\":{\"x0\":{\"__ndarray__\":\"AADA5FcMdUIAAIBKqgx1QgAAQLD8DHVCAAAAFk8NdUIAAMB7oQ11QgAAAK2YDnVCAADAEusOdUIAAIB4PQ91QgAAQN6PD3VCAAAAROIPdUIAAEB12RB1QgAAANsrEXVCAADAQH4RdUIAAICm0BF1QgAAQAwjEnVCAACAPRoTdUIAAECjbBN1QgAAAAm/E3VCAACA1GMUdUIAAMAFWxV1QgAAgGutFXVCAABA0f8VdUIAAAA3UhZ1QgAAwJykFnVCAAAAzpsXdUIAAMAz7hd1QgAAgJlAGHVCAABA/5IYdUIAAABl5Rh1QgAAQJbcGXVCAAAA/C4adUIAAMBhgRp1QgAAgMfTGnVCAABALSYbdUIAAIBeHRx1QgAAQMRvHHVCAAAAKsIcdUIAAMCPFB11QgAAwCZeHnVCAACAjLAedUIAAEDyAh91QgAAAFhVH3VCAAAA754gdUIAAMBU8SB1QgAAgLpDIXVCAABAIJYhdUIAAACG6CF1QgAAQLffInVCAAAAHTIjdUIAAMCChCN1QgAAgOjWI3VCAABATikkdUIAAEDlciV1QgAAAEvFJXVCAADAsBcmdUIAAIAWaiZ1QgAAwEdhJ3VCAACArbMndUIAAEATBih1QgAAAHlYKHVCAADA3qoodUIAAAAQoil1QgAAwHX0KXVCAACA20YqdUIAAEBBmSp1QgAAAKfrKnVCAABA2OIrdUIAAAA+NSx1QgAAwKOHLHVCAACACdosdUIAAEBvLC11QgAAQAZ2LnVCAAAAbMgudUIAAMDRGi91QgAAgDdtL3VCAADAaGQwdUIAAIDOtjB1QgAAQDQJMXVCAAAAmlsxdUIAAMD/rTF1QgAAADGlMnVCAADAlvcydUIAAID8STN1QgAAQGKcM3VCAAAAyO4zdUIAAED55TR1QgAAAF84NXVCAADAxIo1dUIAAIAq3TV1QgAAQJAvNnVC\",\"dtype\":\"float64\",\"shape\":[90]},\"x1\":{\"__ndarray__\":\"AADA5FcMdUIAAIBKqgx1QgAAQLD8DHVCAAAAFk8NdUIAAMB7oQ11QgAAAK2YDnVCAADAEusOdUIAAIB4PQ91QgAAQN6PD3VCAAAAROIPdUIAAEB12RB1QgAAANsrEXVCAADAQH4RdUIAAICm0BF1QgAAQAwjEnVCAACAPRoTdUIAAECjbBN1QgAAAAm/E3VCAACA1GMUdUIAAMAFWxV1QgAAgGutFXVCAABA0f8VdUIAAAA3UhZ1QgAAwJykFnVCAAAAzpsXdUIAAMAz7hd1QgAAgJlAGHVCAABA/5IYdUIAAABl5Rh1QgAAQJbcGXVCAAAA/C4adUIAAMBhgRp1QgAAgMfTGnVCAABALSYbdUIAAIBeHRx1QgAAQMRvHHVCAAAAKsIcdUIAAMCPFB11QgAAwCZeHnVCAACAjLAedUIAAEDyAh91QgAAAFhVH3VCAAAA754gdUIAAMBU8SB1QgAAgLpDIXVCAABAIJYhdUIAAACG6CF1QgAAQLffInVCAAAAHTIjdUIAAMCChCN1QgAAgOjWI3VCAABATikkdUIAAEDlciV1QgAAAEvFJXVCAADAsBcmdUIAAIAWaiZ1QgAAwEdhJ3VCAACArbMndUIAAEATBih1QgAAAHlYKHVCAADA3qoodUIAAAAQoil1QgAAwHX0KXVCAACA20YqdUIAAEBBmSp1QgAAAKfrKnVCAABA2OIrdUIAAAA+NSx1QgAAwKOHLHVCAACACdosdUIAAEBvLC11QgAAQAZ2LnVCAAAAbMgudUIAAMDRGi91QgAAgDdtL3VCAADAaGQwdUIAAIDOtjB1QgAAQDQJMXVCAAAAmlsxdUIAAMD/rTF1QgAAADGlMnVCAADAlvcydUIAAID8STN1QgAAQGKcM3VCAAAAyO4zdUIAAED55TR1QgAAAF84NXVCAADAxIo1dUIAAIAq3TV1QgAAQJAvNnVC\",\"dtype\":\"float64\",\"shape\":[90]},\"y0\":{\"__ndarray__\":\"AAAAQApXXkAAAAAgXN9eQAAAAOB69F5AAAAAACmsXkAAAAAA13NeQAAAAADXc15AAAAA4HqEXUAAAABA4VpdQAAAAOB6NF1AAAAA4HrkXEAAAAAgXI9cQAAAAEAzw1xAAAAAIFxfXUAAAAAAAPBdQAAAAEDh+l1AAAAAYLjuXUAAAABgZtZdQAAAAGC4zl1AAAAAgD2aXUAAAACAPdpdQAAAAADXs11AAAAAQAqHXUAAAABgjzJdQAAAAAAA0F1AAAAAQAr3XUAAAABgZqZdQAAAAAApbF1AAAAAACk8XUAAAADA9dhcQAAAACCFK1xAAAAAQDMzXEAAAAAgXP9bQAAAAAAAEFxAAAAAoEdhW0AAAAAgrtdaQAAAAIAU7lpAAAAAYGY2W0AAAAAAAEBbQAAAAAAp7FpAAAAAIIVbW0AAAADAzCxbQAAAAIDrwVpAAAAAIK5XWkAAAABgZnZaQAAAACCul1lAAAAA4FEIWUAAAABACsdYQAAAAADXw1hAAAAAACksWUAAAAAAKUxZQAAAAGC4HllAAAAAoHBtWEAAAACgmalYQAAAAAApjFhAAAAA4FF4WEAAAACgcF1ZQAAAAIDrYVlAAAAA4FE4WUAAAADgUShYQAAAAKBHoVdAAAAAgMJVWEAAAACgcC1YQAAAAGCPAlhAAAAAgMI1WEAAAADAHlVYQAAAAEDhOlhAAAAAwMzsV0AAAAAAKfxXQAAAAGBmFlhAAAAAgBSuV0AAAAAAAKBXQAAAAGBmNlhAAAAAoHCNWEAAAADA9bhYQAAAAOCjMFhAAAAAoJk5WEAAAAAAACBYQAAAAOBRGFhAAAAA4KMwWEAAAACgR4FYQAAAAGC4jlhAAAAAoEcxWUAAAADA9ThZQAAAAKBwbVlAAAAAAADwWUAAAADAHrVZQAAAAOCjcFlAAAAAwB5lWUAAAAAgXI9ZQAAAAIDrkVlA\",\"dtype\":\"float64\",\"shape\":[90]},\"y1\":{\"__ndarray__\":\"AAAAQArnXUAAAADAzCxeQAAAACCuZ15AAAAAIIULXkAAAAAgrideQAAAAEAzA15AAAAAANcDXUAAAACgcM1cQAAAAKCZ6VxAAAAAoEcRXEAAAAAAAMBbQAAAAOB6VFxAAAAAAADgXEAAAADgozBdQAAAAGBmtl1AAAAAgMJVXUAAAAAgrkddQAAAAEDhel1AAAAAYGZmXUAAAAAAAHBdQAAAAEAKN11AAAAAwB4FXUAAAACAFI5cQAAAAEAKx1xAAAAAANdzXUAAAABACjddQAAAAMAexVxAAAAA4KPgXEAAAABgZjZcQAAAAGCPcltAAAAAYGaWW0AAAABAMzNbQAAAAGC4PltAAAAAANdzWkAAAADgemRaQAAAAMDMnFpAAAAAwMzMWkAAAADAzPxaQAAAACCFi1pAAAAAQAq3WkAAAAAghctaQAAAAOB6NFpAAAAAAACAWUAAAACAPZpZQAAAACCu91hAAAAAIIUbWEAAAADgozBYQAAAAIDCVVhAAAAAgMK1WEAAAABAM1NYQAAAACBc71dAAAAAQArXV0AAAAAAAOBXQAAAAEDhWldAAAAAACm8V0AAAAAgrpdYQAAAAKBwzVhAAAAA4HqEWEAAAACAwlVXQAAAAMD1GFdAAAAAYGaWV0AAAACgmdlXQAAAAIDrkVdAAAAAwB6FV0AAAAAAKcxXQAAAAAApbFdAAAAAYI9CV0AAAAAghXtXQAAAAGBmhldAAAAAgMIlV0AAAADgo0BXQAAAAEAKp1dAAAAAoJkJWEAAAACAwgVYQAAAAEAz81dAAAAAQOH6V0AAAABAM6NXQAAAAOB6VFdAAAAAAADQV0AAAADAHiVYQAAAAKCZKVhAAAAAQOFaWEAAAADA9ehYQAAAAMDMHFlAAAAAIK5XWUAAAACgcD1ZQAAAAKCZGVlAAAAAoEcRWUAAAACgmQlZQAAAAAAAYFlA\",\"dtype\":\"float64\",\"shape\":[90]}},\"selected\":{\"id\":\"1363\",\"type\":\"Selection\"},\"selection_policy\":{\"id\":\"1364\",\"type\":\"UnionRenderers\"}},\"id\":\"1329\",\"type\":\"ColumnDataSource\"},{\"attributes\":{\"months\":[0,1,2,3,4,5,6,7,8,9,10,11]},\"id\":\"1357\",\"type\":\"MonthsTicker\"},{\"attributes\":{\"line_color\":{\"value\":\"Black\"},\"x0\":{\"field\":\"x0\"},\"x1\":{\"field\":\"x1\"},\"y0\":{\"field\":\"y0\"},\"y1\":{\"field\":\"y1\"}},\"id\":\"1330\",\"type\":\"Segment\"},{\"attributes\":{\"active_drag\":\"auto\",\"active_inspect\":\"auto\",\"active_multi\":null,\"active_scroll\":\"auto\",\"active_tap\":\"auto\",\"tools\":[{\"id\":\"1313\",\"type\":\"PanTool\"},{\"id\":\"1314\",\"type\":\"WheelZoomTool\"},{\"id\":\"1315\",\"type\":\"BoxZoomTool\"},{\"id\":\"1316\",\"type\":\"SaveTool\"},{\"id\":\"1317\",\"type\":\"ResetTool\"},{\"id\":\"1318\",\"type\":\"HelpTool\"}]},\"id\":\"1319\",\"type\":\"Toolbar\"},{\"attributes\":{\"months\":[0,2,4,6,8,10]},\"id\":\"1358\",\"type\":\"MonthsTicker\"},{\"attributes\":{},\"id\":\"1314\",\"type\":\"WheelZoomTool\"},{\"attributes\":{\"months\":[0,4,8]},\"id\":\"1359\",\"type\":\"MonthsTicker\"},{\"attributes\":{\"fill_color\":{\"value\":\"#FF3333\"},\"height\":{\"field\":\"height\",\"units\":\"data\"},\"width\":{\"units\":\"data\",\"value\":43200000},\"x\":{\"field\":\"x\"},\"y\":{\"field\":\"y\"}},\"id\":\"1340\",\"type\":\"Rect\"},{\"attributes\":{\"overlay\":{\"id\":\"1321\",\"type\":\"BoxAnnotation\"}},\"id\":\"1315\",\"type\":\"BoxZoomTool\"},{\"attributes\":{\"months\":[0,6]},\"id\":\"1360\",\"type\":\"MonthsTicker\"},{\"attributes\":{\"fill_alpha\":{\"value\":0.1},\"fill_color\":{\"value\":\"#1f77b4\"},\"height\":{\"field\":\"height\",\"units\":\"data\"},\"line_alpha\":{\"value\":0.1},\"line_color\":{\"value\":\"#1f77b4\"},\"width\":{\"units\":\"data\",\"value\":43200000},\"x\":{\"field\":\"x\"},\"y\":{\"field\":\"y\"}},\"id\":\"1341\",\"type\":\"Rect\"},{\"attributes\":{},\"id\":\"1361\",\"type\":\"YearsTicker\"},{\"attributes\":{\"callback\":null},\"id\":\"1295\",\"type\":\"DataRange1d\"},{\"attributes\":{\"data_source\":{\"id\":\"1339\",\"type\":\"ColumnDataSource\"},\"glyph\":{\"id\":\"1340\",\"type\":\"Rect\"},\"hover_glyph\":null,\"muted_glyph\":null,\"nonselection_glyph\":{\"id\":\"1341\",\"type\":\"Rect\"},\"selection_glyph\":null,\"view\":{\"id\":\"1343\",\"type\":\"CDSView\"}},\"id\":\"1342\",\"type\":\"GlyphRenderer\"},{\"attributes\":{\"plot\":null,\"text\":\"Candlestick Chart\"},\"id\":\"1328\",\"type\":\"Title\"},{\"attributes\":{\"bottom_units\":\"screen\",\"fill_alpha\":{\"value\":0.5},\"fill_color\":{\"value\":\"lightgrey\"},\"left_units\":\"screen\",\"level\":\"overlay\",\"line_alpha\":{\"value\":1.0},\"line_color\":{\"value\":\"black\"},\"line_dash\":[4,4],\"line_width\":{\"value\":2},\"plot\":null,\"render_mode\":\"css\",\"right_units\":\"screen\",\"top_units\":\"screen\"},\"id\":\"1321\",\"type\":\"BoxAnnotation\"},{\"attributes\":{},\"id\":\"1317\",\"type\":\"ResetTool\"},{\"attributes\":{\"source\":{\"id\":\"1339\",\"type\":\"ColumnDataSource\"}},\"id\":\"1343\",\"type\":\"CDSView\"},{\"attributes\":{},\"id\":\"1363\",\"type\":\"Selection\"},{\"attributes\":{\"line_alpha\":{\"value\":0.1},\"line_color\":{\"value\":\"#1f77b4\"},\"x0\":{\"field\":\"x0\"},\"x1\":{\"field\":\"x1\"},\"y0\":{\"field\":\"y0\"},\"y1\":{\"field\":\"y1\"}},\"id\":\"1331\",\"type\":\"Segment\"},{\"attributes\":{\"below\":[{\"id\":\"1303\",\"type\":\"DatetimeAxis\"}],\"left\":[{\"id\":\"1308\",\"type\":\"LinearAxis\"}],\"plot_height\":300,\"plot_width\":1000,\"renderers\":[{\"id\":\"1303\",\"type\":\"DatetimeAxis\"},{\"id\":\"1307\",\"type\":\"Grid\"},{\"id\":\"1308\",\"type\":\"LinearAxis\"},{\"id\":\"1312\",\"type\":\"Grid\"},{\"id\":\"1321\",\"type\":\"BoxAnnotation\"},{\"id\":\"1332\",\"type\":\"GlyphRenderer\"},{\"id\":\"1337\",\"type\":\"GlyphRenderer\"},{\"id\":\"1342\",\"type\":\"GlyphRenderer\"}],\"title\":{\"id\":\"1328\",\"type\":\"Title\"},\"toolbar\":{\"id\":\"1319\",\"type\":\"Toolbar\"},\"x_range\":{\"id\":\"1295\",\"type\":\"DataRange1d\"},\"x_scale\":{\"id\":\"1299\",\"type\":\"LinearScale\"},\"y_range\":{\"id\":\"1297\",\"type\":\"DataRange1d\"},\"y_scale\":{\"id\":\"1301\",\"type\":\"LinearScale\"}},\"id\":\"1294\",\"subtype\":\"Figure\",\"type\":\"Plot\"},{\"attributes\":{},\"id\":\"1365\",\"type\":\"Selection\"}],\"root_ids\":[\"1294\"]},\"title\":\"Bokeh Application\",\"version\":\"1.0.4\"}}\\';\\n          var render_items = [{\"docid\":\"40bd541c-df47-4ea4-b6bc-1ef59fa9b678\",\"roots\":{\"1294\":\"aa064ad5-edc5-4c42-a052-1df9dfc51117\"}}];\\n          root.Bokeh.embed.embed_items(docs_json, render_items);\\n        \\n          }\\n          if (root.Bokeh !== undefined) {\\n            embed_document(root);\\n          } else {\\n            var attempts = 0;\\n            var timer = setInterval(function(root) {\\n              if (root.Bokeh !== undefined) {\\n                embed_document(root);\\n                clearInterval(timer);\\n              }\\n              attempts++;\\n              if (attempts > 100) {\\n                console.log(\"Bokeh: ERROR: Unable to run BokehJS code because BokehJS library is missing\");\\n                clearInterval(timer);\\n              }\\n            }, 10, root)\\n          }\\n        })(window);\\n      });\\n    };\\n    if (document.readyState != \"loading\") fn();\\n    else document.addEventListener(\"DOMContentLoaded\", fn);\\n  })();\\n</script>',\n",
       " '\\n<div class=\"bk-root\" id=\"aa064ad5-edc5-4c42-a052-1df9dfc51117\" data-root-id=\"1294\"></div>')"
      ]
     },
     "execution_count": 17,
     "metadata": {},
     "output_type": "execute_result"
    }
   ],
   "source": [
    "components(p)"
   ]
  },
  {
   "cell_type": "code",
   "execution_count": 18,
   "metadata": {},
   "outputs": [
    {
     "data": {
      "text/plain": [
       "['https://cdn.pydata.org/bokeh/release/bokeh-1.0.4.min.js',\n",
       " 'https://cdn.pydata.org/bokeh/release/bokeh-widgets-1.0.4.min.js',\n",
       " 'https://cdn.pydata.org/bokeh/release/bokeh-tables-1.0.4.min.js',\n",
       " 'https://cdn.pydata.org/bokeh/release/bokeh-gl-1.0.4.min.js']"
      ]
     },
     "execution_count": 18,
     "metadata": {},
     "output_type": "execute_result"
    }
   ],
   "source": [
    "CDN.js_files"
   ]
  },
  {
   "cell_type": "code",
   "execution_count": 19,
   "metadata": {},
   "outputs": [
    {
     "data": {
      "text/plain": [
       "['https://cdn.pydata.org/bokeh/release/bokeh-1.0.4.min.css',\n",
       " 'https://cdn.pydata.org/bokeh/release/bokeh-widgets-1.0.4.min.css',\n",
       " 'https://cdn.pydata.org/bokeh/release/bokeh-tables-1.0.4.min.css']"
      ]
     },
     "execution_count": 19,
     "metadata": {},
     "output_type": "execute_result"
    }
   ],
   "source": [
    "CDN.css_files"
   ]
  },
  {
   "cell_type": "code",
   "execution_count": null,
   "metadata": {},
   "outputs": [],
   "source": []
  }
 ],
 "metadata": {
  "kernelspec": {
   "display_name": "Python 3",
   "language": "python",
   "name": "python3"
  },
  "language_info": {
   "codemirror_mode": {
    "name": "ipython",
    "version": 3
   },
   "file_extension": ".py",
   "mimetype": "text/x-python",
   "name": "python",
   "nbconvert_exporter": "python",
   "pygments_lexer": "ipython3",
   "version": "3.7.2"
  }
 },
 "nbformat": 4,
 "nbformat_minor": 2
}
